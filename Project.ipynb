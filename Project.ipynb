{
 "cells": [
  {
   "cell_type": "markdown",
   "metadata": {},
   "source": [
    "# Proyek Analisis Data : [Bike Sharing Dataset]\n",
    "- Nama : Rival Moh. Wahyudi\n",
    "- Email : vallllwhy@students.unnes.ac.id\n",
    "- ID Dicoding : Rival Moh. Wahyudi"
   ]
  },
  {
   "cell_type": "markdown",
   "metadata": {},
   "source": [
    "# Pertanyaan Bisnis\n",
    "1. demografi dari penyewa apakah telah registrasi atau tidak (pengguna umum)?\n",
    "2. banyak penyewa pada beberapa bulan terakhir dalam satu tahun?\n",
    "3. pada musim apa banyak penyewa menyewa sepeda?\n",
    "4. pada kondisi cuaca berkorelasi dengan jumlah penyewa sepeda dan kelas kondisi cuaca seperti apa yang menghasilkan banyak penyewa sepeda?"
   ]
  },
  {
   "cell_type": "markdown",
   "metadata": {},
   "source": [
    "# Import Library"
   ]
  },
  {
   "cell_type": "code",
   "execution_count": 165,
   "metadata": {},
   "outputs": [],
   "source": [
    "import numpy as np\n",
    "import pandas as pd\n",
    "import matplotlib.pyplot as plt\n",
    "import seaborn as sns\n",
    "import shutil\n",
    "import statsmodels.api as sm\n",
    "from statsmodels.formula.api import ols  "
   ]
  },
  {
   "cell_type": "markdown",
   "metadata": {},
   "source": [
    "#Data Wrangling"
   ]
  },
  {
   "cell_type": "code",
   "execution_count": 166,
   "metadata": {},
   "outputs": [],
   "source": [
    "#mengekstrak data zip yang telah diunduh\n",
    "shutil.unpack_archive('archive(2).zip', 'bike_rental')"
   ]
  },
  {
   "cell_type": "code",
   "execution_count": 167,
   "metadata": {},
   "outputs": [],
   "source": [
    "#memuat tabel rental sepeda pada rentang jam dan harian\n",
    "\n",
    "hour_df = pd.read_csv('bike_rental/hour.csv')\n",
    "day_df = pd.read_csv('bike_rental/day.csv')"
   ]
  },
  {
   "cell_type": "code",
   "execution_count": 168,
   "metadata": {},
   "outputs": [
    {
     "data": {
      "text/html": [
       "<div>\n",
       "<style scoped>\n",
       "    .dataframe tbody tr th:only-of-type {\n",
       "        vertical-align: middle;\n",
       "    }\n",
       "\n",
       "    .dataframe tbody tr th {\n",
       "        vertical-align: top;\n",
       "    }\n",
       "\n",
       "    .dataframe thead th {\n",
       "        text-align: right;\n",
       "    }\n",
       "</style>\n",
       "<table border=\"1\" class=\"dataframe\">\n",
       "  <thead>\n",
       "    <tr style=\"text-align: right;\">\n",
       "      <th></th>\n",
       "      <th>instant</th>\n",
       "      <th>dteday</th>\n",
       "      <th>season</th>\n",
       "      <th>yr</th>\n",
       "      <th>mnth</th>\n",
       "      <th>hr</th>\n",
       "      <th>holiday</th>\n",
       "      <th>weekday</th>\n",
       "      <th>workingday</th>\n",
       "      <th>weathersit</th>\n",
       "      <th>temp</th>\n",
       "      <th>atemp</th>\n",
       "      <th>hum</th>\n",
       "      <th>windspeed</th>\n",
       "      <th>casual</th>\n",
       "      <th>registered</th>\n",
       "      <th>cnt</th>\n",
       "    </tr>\n",
       "  </thead>\n",
       "  <tbody>\n",
       "    <tr>\n",
       "      <th>10396</th>\n",
       "      <td>10397</td>\n",
       "      <td>2012-03-14</td>\n",
       "      <td>1</td>\n",
       "      <td>1</td>\n",
       "      <td>3</td>\n",
       "      <td>7</td>\n",
       "      <td>0</td>\n",
       "      <td>3</td>\n",
       "      <td>1</td>\n",
       "      <td>1</td>\n",
       "      <td>0.44</td>\n",
       "      <td>0.4394</td>\n",
       "      <td>0.82</td>\n",
       "      <td>0.1045</td>\n",
       "      <td>20</td>\n",
       "      <td>348</td>\n",
       "      <td>368</td>\n",
       "    </tr>\n",
       "    <tr>\n",
       "      <th>4382</th>\n",
       "      <td>4383</td>\n",
       "      <td>2011-07-06</td>\n",
       "      <td>3</td>\n",
       "      <td>0</td>\n",
       "      <td>7</td>\n",
       "      <td>12</td>\n",
       "      <td>0</td>\n",
       "      <td>3</td>\n",
       "      <td>1</td>\n",
       "      <td>2</td>\n",
       "      <td>0.74</td>\n",
       "      <td>0.6970</td>\n",
       "      <td>0.66</td>\n",
       "      <td>0.0896</td>\n",
       "      <td>38</td>\n",
       "      <td>114</td>\n",
       "      <td>152</td>\n",
       "    </tr>\n",
       "    <tr>\n",
       "      <th>1151</th>\n",
       "      <td>1152</td>\n",
       "      <td>2011-02-20</td>\n",
       "      <td>1</td>\n",
       "      <td>0</td>\n",
       "      <td>2</td>\n",
       "      <td>18</td>\n",
       "      <td>0</td>\n",
       "      <td>0</td>\n",
       "      <td>0</td>\n",
       "      <td>2</td>\n",
       "      <td>0.34</td>\n",
       "      <td>0.3333</td>\n",
       "      <td>0.36</td>\n",
       "      <td>0.1343</td>\n",
       "      <td>30</td>\n",
       "      <td>71</td>\n",
       "      <td>101</td>\n",
       "    </tr>\n",
       "    <tr>\n",
       "      <th>1652</th>\n",
       "      <td>1653</td>\n",
       "      <td>2011-03-14</td>\n",
       "      <td>1</td>\n",
       "      <td>0</td>\n",
       "      <td>3</td>\n",
       "      <td>10</td>\n",
       "      <td>0</td>\n",
       "      <td>1</td>\n",
       "      <td>1</td>\n",
       "      <td>1</td>\n",
       "      <td>0.34</td>\n",
       "      <td>0.3182</td>\n",
       "      <td>0.42</td>\n",
       "      <td>0.2537</td>\n",
       "      <td>27</td>\n",
       "      <td>57</td>\n",
       "      <td>84</td>\n",
       "    </tr>\n",
       "    <tr>\n",
       "      <th>15827</th>\n",
       "      <td>15828</td>\n",
       "      <td>2012-10-26</td>\n",
       "      <td>4</td>\n",
       "      <td>1</td>\n",
       "      <td>10</td>\n",
       "      <td>16</td>\n",
       "      <td>0</td>\n",
       "      <td>5</td>\n",
       "      <td>1</td>\n",
       "      <td>2</td>\n",
       "      <td>0.58</td>\n",
       "      <td>0.5455</td>\n",
       "      <td>0.73</td>\n",
       "      <td>0.1642</td>\n",
       "      <td>137</td>\n",
       "      <td>445</td>\n",
       "      <td>582</td>\n",
       "    </tr>\n",
       "  </tbody>\n",
       "</table>\n",
       "</div>"
      ],
      "text/plain": [
       "       instant      dteday  season  yr  mnth  hr  holiday  weekday  \\\n",
       "10396    10397  2012-03-14       1   1     3   7        0        3   \n",
       "4382      4383  2011-07-06       3   0     7  12        0        3   \n",
       "1151      1152  2011-02-20       1   0     2  18        0        0   \n",
       "1652      1653  2011-03-14       1   0     3  10        0        1   \n",
       "15827    15828  2012-10-26       4   1    10  16        0        5   \n",
       "\n",
       "       workingday  weathersit  temp   atemp   hum  windspeed  casual  \\\n",
       "10396           1           1  0.44  0.4394  0.82     0.1045      20   \n",
       "4382            1           2  0.74  0.6970  0.66     0.0896      38   \n",
       "1151            0           2  0.34  0.3333  0.36     0.1343      30   \n",
       "1652            1           1  0.34  0.3182  0.42     0.2537      27   \n",
       "15827           1           2  0.58  0.5455  0.73     0.1642     137   \n",
       "\n",
       "       registered  cnt  \n",
       "10396         348  368  \n",
       "4382          114  152  \n",
       "1151           71  101  \n",
       "1652           57   84  \n",
       "15827         445  582  "
      ]
     },
     "execution_count": 168,
     "metadata": {},
     "output_type": "execute_result"
    }
   ],
   "source": [
    "#sample dari dataframe hour_df\n",
    "hour_df.sample(5)"
   ]
  },
  {
   "cell_type": "code",
   "execution_count": 169,
   "metadata": {},
   "outputs": [
    {
     "data": {
      "text/html": [
       "<div>\n",
       "<style scoped>\n",
       "    .dataframe tbody tr th:only-of-type {\n",
       "        vertical-align: middle;\n",
       "    }\n",
       "\n",
       "    .dataframe tbody tr th {\n",
       "        vertical-align: top;\n",
       "    }\n",
       "\n",
       "    .dataframe thead th {\n",
       "        text-align: right;\n",
       "    }\n",
       "</style>\n",
       "<table border=\"1\" class=\"dataframe\">\n",
       "  <thead>\n",
       "    <tr style=\"text-align: right;\">\n",
       "      <th></th>\n",
       "      <th>instant</th>\n",
       "      <th>dteday</th>\n",
       "      <th>season</th>\n",
       "      <th>yr</th>\n",
       "      <th>mnth</th>\n",
       "      <th>holiday</th>\n",
       "      <th>weekday</th>\n",
       "      <th>workingday</th>\n",
       "      <th>weathersit</th>\n",
       "      <th>temp</th>\n",
       "      <th>atemp</th>\n",
       "      <th>hum</th>\n",
       "      <th>windspeed</th>\n",
       "      <th>casual</th>\n",
       "      <th>registered</th>\n",
       "      <th>cnt</th>\n",
       "    </tr>\n",
       "  </thead>\n",
       "  <tbody>\n",
       "    <tr>\n",
       "      <th>111</th>\n",
       "      <td>112</td>\n",
       "      <td>2011-04-22</td>\n",
       "      <td>2</td>\n",
       "      <td>0</td>\n",
       "      <td>4</td>\n",
       "      <td>0</td>\n",
       "      <td>5</td>\n",
       "      <td>1</td>\n",
       "      <td>2</td>\n",
       "      <td>0.336667</td>\n",
       "      <td>0.321954</td>\n",
       "      <td>0.729583</td>\n",
       "      <td>0.219521</td>\n",
       "      <td>177</td>\n",
       "      <td>1506</td>\n",
       "      <td>1683</td>\n",
       "    </tr>\n",
       "    <tr>\n",
       "      <th>161</th>\n",
       "      <td>162</td>\n",
       "      <td>2011-06-11</td>\n",
       "      <td>2</td>\n",
       "      <td>0</td>\n",
       "      <td>6</td>\n",
       "      <td>0</td>\n",
       "      <td>6</td>\n",
       "      <td>0</td>\n",
       "      <td>1</td>\n",
       "      <td>0.725000</td>\n",
       "      <td>0.678038</td>\n",
       "      <td>0.654583</td>\n",
       "      <td>0.154850</td>\n",
       "      <td>1729</td>\n",
       "      <td>3237</td>\n",
       "      <td>4966</td>\n",
       "    </tr>\n",
       "    <tr>\n",
       "      <th>157</th>\n",
       "      <td>158</td>\n",
       "      <td>2011-06-07</td>\n",
       "      <td>2</td>\n",
       "      <td>0</td>\n",
       "      <td>6</td>\n",
       "      <td>0</td>\n",
       "      <td>2</td>\n",
       "      <td>1</td>\n",
       "      <td>1</td>\n",
       "      <td>0.707500</td>\n",
       "      <td>0.655950</td>\n",
       "      <td>0.597917</td>\n",
       "      <td>0.187808</td>\n",
       "      <td>763</td>\n",
       "      <td>4070</td>\n",
       "      <td>4833</td>\n",
       "    </tr>\n",
       "    <tr>\n",
       "      <th>646</th>\n",
       "      <td>647</td>\n",
       "      <td>2012-10-08</td>\n",
       "      <td>4</td>\n",
       "      <td>1</td>\n",
       "      <td>10</td>\n",
       "      <td>1</td>\n",
       "      <td>1</td>\n",
       "      <td>0</td>\n",
       "      <td>2</td>\n",
       "      <td>0.383333</td>\n",
       "      <td>0.387608</td>\n",
       "      <td>0.709583</td>\n",
       "      <td>0.189679</td>\n",
       "      <td>874</td>\n",
       "      <td>4604</td>\n",
       "      <td>5478</td>\n",
       "    </tr>\n",
       "    <tr>\n",
       "      <th>617</th>\n",
       "      <td>618</td>\n",
       "      <td>2012-09-09</td>\n",
       "      <td>3</td>\n",
       "      <td>1</td>\n",
       "      <td>9</td>\n",
       "      <td>0</td>\n",
       "      <td>0</td>\n",
       "      <td>0</td>\n",
       "      <td>1</td>\n",
       "      <td>0.610000</td>\n",
       "      <td>0.578925</td>\n",
       "      <td>0.547500</td>\n",
       "      <td>0.224496</td>\n",
       "      <td>2570</td>\n",
       "      <td>5657</td>\n",
       "      <td>8227</td>\n",
       "    </tr>\n",
       "  </tbody>\n",
       "</table>\n",
       "</div>"
      ],
      "text/plain": [
       "     instant      dteday  season  yr  mnth  holiday  weekday  workingday  \\\n",
       "111      112  2011-04-22       2   0     4        0        5           1   \n",
       "161      162  2011-06-11       2   0     6        0        6           0   \n",
       "157      158  2011-06-07       2   0     6        0        2           1   \n",
       "646      647  2012-10-08       4   1    10        1        1           0   \n",
       "617      618  2012-09-09       3   1     9        0        0           0   \n",
       "\n",
       "     weathersit      temp     atemp       hum  windspeed  casual  registered  \\\n",
       "111           2  0.336667  0.321954  0.729583   0.219521     177        1506   \n",
       "161           1  0.725000  0.678038  0.654583   0.154850    1729        3237   \n",
       "157           1  0.707500  0.655950  0.597917   0.187808     763        4070   \n",
       "646           2  0.383333  0.387608  0.709583   0.189679     874        4604   \n",
       "617           1  0.610000  0.578925  0.547500   0.224496    2570        5657   \n",
       "\n",
       "      cnt  \n",
       "111  1683  \n",
       "161  4966  \n",
       "157  4833  \n",
       "646  5478  \n",
       "617  8227  "
      ]
     },
     "execution_count": 169,
     "metadata": {},
     "output_type": "execute_result"
    }
   ],
   "source": [
    "#sample dari dataframe day_df\n",
    "day_df.sample(5)"
   ]
  },
  {
   "cell_type": "markdown",
   "metadata": {},
   "source": [
    "Deskripsi data\n",
    "- index = urutan dari data diambil\n",
    "- dteday = tanggal\n",
    "- season = musim (1:semi, 2:panas, 3:gugur, 4:dingin)\n",
    "- yr = tahun (0:2011, 1:2012)\n",
    "- month = bulan (1 sampai 12)\n",
    "- hr : jam (0 sampai 23)\n",
    "- holiday = hari libur atau bukan\n",
    "- weekday = hari dalam seminggu (0 sampai 6)\n",
    "- workingday = hari kerja yang ditandai dengan value 1 selain hari kerja seperti weekend dan hiliday ditandai dengan 0\n",
    "- weathersit = konidsi cuaca pada saat itu\n",
    "    - 1: cerah, sedikit berawan, sebagian berawan\n",
    "    - 2: berawan, sangat berawan, mendung, berkabut\n",
    "    - 3: bersalju ringan, hujan ringan, petir, awan gelap.\n",
    "    - 4: hujan lebat, salju ynang sangat menumpuk, petir dengan kabut, badai salju\n",
    "- temp = normalisasi suhu sekitar, dibagi dengna 41\n",
    "- atemp = normalisasi suhu yang diukur berdasarakan seberapa dingin atau panas di lingkungan terhadap kulit, dibagi dengan 50.\n",
    "- hum = normalisasi tingkat kelembapan, dibagi dengan 100.\n",
    "- windspeed = kecepatan angin yang sudah dinormalisasi dengan dibagi dengan angka 67.\n",
    "- casual = banyak pengguna casual --> pengguna biasa tidak teregistrasi\n",
    "- registered = banyak pengguna yang meminjam dan teregistrasi.\n",
    "- cnt = total dari peminjam umum dan teregistrasi"
   ]
  },
  {
   "cell_type": "code",
   "execution_count": 170,
   "metadata": {},
   "outputs": [
    {
     "name": "stdout",
     "output_type": "stream",
     "text": [
      "<class 'pandas.core.frame.DataFrame'>\n",
      "RangeIndex: 17379 entries, 0 to 17378\n",
      "Data columns (total 17 columns):\n",
      " #   Column      Non-Null Count  Dtype  \n",
      "---  ------      --------------  -----  \n",
      " 0   instant     17379 non-null  int64  \n",
      " 1   dteday      17379 non-null  object \n",
      " 2   season      17379 non-null  int64  \n",
      " 3   yr          17379 non-null  int64  \n",
      " 4   mnth        17379 non-null  int64  \n",
      " 5   hr          17379 non-null  int64  \n",
      " 6   holiday     17379 non-null  int64  \n",
      " 7   weekday     17379 non-null  int64  \n",
      " 8   workingday  17379 non-null  int64  \n",
      " 9   weathersit  17379 non-null  int64  \n",
      " 10  temp        17379 non-null  float64\n",
      " 11  atemp       17379 non-null  float64\n",
      " 12  hum         17379 non-null  float64\n",
      " 13  windspeed   17379 non-null  float64\n",
      " 14  casual      17379 non-null  int64  \n",
      " 15  registered  17379 non-null  int64  \n",
      " 16  cnt         17379 non-null  int64  \n",
      "dtypes: float64(4), int64(12), object(1)\n",
      "memory usage: 2.3+ MB\n"
     ]
    }
   ],
   "source": [
    "# melihat apa saja atribut dari dataframe hour_df\n",
    "hour_df.info()"
   ]
  },
  {
   "cell_type": "code",
   "execution_count": 171,
   "metadata": {},
   "outputs": [
    {
     "name": "stdout",
     "output_type": "stream",
     "text": [
      "<class 'pandas.core.frame.DataFrame'>\n",
      "RangeIndex: 731 entries, 0 to 730\n",
      "Data columns (total 16 columns):\n",
      " #   Column      Non-Null Count  Dtype  \n",
      "---  ------      --------------  -----  \n",
      " 0   instant     731 non-null    int64  \n",
      " 1   dteday      731 non-null    object \n",
      " 2   season      731 non-null    int64  \n",
      " 3   yr          731 non-null    int64  \n",
      " 4   mnth        731 non-null    int64  \n",
      " 5   holiday     731 non-null    int64  \n",
      " 6   weekday     731 non-null    int64  \n",
      " 7   workingday  731 non-null    int64  \n",
      " 8   weathersit  731 non-null    int64  \n",
      " 9   temp        731 non-null    float64\n",
      " 10  atemp       731 non-null    float64\n",
      " 11  hum         731 non-null    float64\n",
      " 12  windspeed   731 non-null    float64\n",
      " 13  casual      731 non-null    int64  \n",
      " 14  registered  731 non-null    int64  \n",
      " 15  cnt         731 non-null    int64  \n",
      "dtypes: float64(4), int64(11), object(1)\n",
      "memory usage: 91.5+ KB\n"
     ]
    }
   ],
   "source": [
    "#melihat atribut dari dataframe day_df\n",
    "day_df.info()"
   ]
  },
  {
   "cell_type": "markdown",
   "metadata": {},
   "source": [
    "terlihat dari info dataframe day_df maupun hour_df tidak value yang kosong atau tidak terisi"
   ]
  },
  {
   "cell_type": "code",
   "execution_count": 172,
   "metadata": {},
   "outputs": [
    {
     "name": "stdout",
     "output_type": "stream",
     "text": [
      "day_df dataframe : instant       0\n",
      "dteday        0\n",
      "season        0\n",
      "yr            0\n",
      "mnth          0\n",
      "holiday       0\n",
      "weekday       0\n",
      "workingday    0\n",
      "weathersit    0\n",
      "temp          0\n",
      "atemp         0\n",
      "hum           0\n",
      "windspeed     0\n",
      "casual        0\n",
      "registered    0\n",
      "cnt           0\n",
      "dtype: int64\n",
      "hour_df dataframe : instant       0\n",
      "dteday        0\n",
      "season        0\n",
      "yr            0\n",
      "mnth          0\n",
      "hr            0\n",
      "holiday       0\n",
      "weekday       0\n",
      "workingday    0\n",
      "weathersit    0\n",
      "temp          0\n",
      "atemp         0\n",
      "hum           0\n",
      "windspeed     0\n",
      "casual        0\n",
      "registered    0\n",
      "cnt           0\n",
      "dtype: int64\n"
     ]
    }
   ],
   "source": [
    "#dapat diketahui juga dengan menggunakan fungsi berikut apakah ada yang kosong\n",
    "\n",
    "print (f\"day_df dataframe : {day_df.isna().sum()}\")\n",
    "print (f\"hour_df dataframe : {hour_df.isna().sum()}\")"
   ]
  },
  {
   "cell_type": "code",
   "execution_count": 173,
   "metadata": {},
   "outputs": [
    {
     "name": "stdout",
     "output_type": "stream",
     "text": [
      "day_df dataframe : 0\n",
      "hour_df dataframe : 0\n"
     ]
    }
   ],
   "source": [
    "#memeriksa apakah ada data duplicated pada dataframe\n",
    "\n",
    "print (f\"day_df dataframe : {day_df.duplicated().sum()}\")\n",
    "print (f\"hour_df dataframe : {hour_df.duplicated().sum()}\")"
   ]
  },
  {
   "cell_type": "code",
   "execution_count": 174,
   "metadata": {},
   "outputs": [
    {
     "data": {
      "text/html": [
       "<div>\n",
       "<style scoped>\n",
       "    .dataframe tbody tr th:only-of-type {\n",
       "        vertical-align: middle;\n",
       "    }\n",
       "\n",
       "    .dataframe tbody tr th {\n",
       "        vertical-align: top;\n",
       "    }\n",
       "\n",
       "    .dataframe thead th {\n",
       "        text-align: right;\n",
       "    }\n",
       "</style>\n",
       "<table border=\"1\" class=\"dataframe\">\n",
       "  <thead>\n",
       "    <tr style=\"text-align: right;\">\n",
       "      <th></th>\n",
       "      <th>instant</th>\n",
       "      <th>dteday</th>\n",
       "      <th>season</th>\n",
       "      <th>yr</th>\n",
       "      <th>mnth</th>\n",
       "      <th>holiday</th>\n",
       "      <th>weekday</th>\n",
       "      <th>workingday</th>\n",
       "      <th>weathersit</th>\n",
       "      <th>temp</th>\n",
       "      <th>atemp</th>\n",
       "      <th>hum</th>\n",
       "      <th>windspeed</th>\n",
       "      <th>casual</th>\n",
       "      <th>registered</th>\n",
       "      <th>cnt</th>\n",
       "    </tr>\n",
       "  </thead>\n",
       "  <tbody>\n",
       "    <tr>\n",
       "      <th>count</th>\n",
       "      <td>731.000000</td>\n",
       "      <td>731</td>\n",
       "      <td>731.000000</td>\n",
       "      <td>731.000000</td>\n",
       "      <td>731.000000</td>\n",
       "      <td>731.000000</td>\n",
       "      <td>731.000000</td>\n",
       "      <td>731.000000</td>\n",
       "      <td>731.000000</td>\n",
       "      <td>731.000000</td>\n",
       "      <td>731.000000</td>\n",
       "      <td>731.000000</td>\n",
       "      <td>731.000000</td>\n",
       "      <td>731.000000</td>\n",
       "      <td>731.000000</td>\n",
       "      <td>731.000000</td>\n",
       "    </tr>\n",
       "    <tr>\n",
       "      <th>unique</th>\n",
       "      <td>NaN</td>\n",
       "      <td>731</td>\n",
       "      <td>NaN</td>\n",
       "      <td>NaN</td>\n",
       "      <td>NaN</td>\n",
       "      <td>NaN</td>\n",
       "      <td>NaN</td>\n",
       "      <td>NaN</td>\n",
       "      <td>NaN</td>\n",
       "      <td>NaN</td>\n",
       "      <td>NaN</td>\n",
       "      <td>NaN</td>\n",
       "      <td>NaN</td>\n",
       "      <td>NaN</td>\n",
       "      <td>NaN</td>\n",
       "      <td>NaN</td>\n",
       "    </tr>\n",
       "    <tr>\n",
       "      <th>top</th>\n",
       "      <td>NaN</td>\n",
       "      <td>2012-12-31</td>\n",
       "      <td>NaN</td>\n",
       "      <td>NaN</td>\n",
       "      <td>NaN</td>\n",
       "      <td>NaN</td>\n",
       "      <td>NaN</td>\n",
       "      <td>NaN</td>\n",
       "      <td>NaN</td>\n",
       "      <td>NaN</td>\n",
       "      <td>NaN</td>\n",
       "      <td>NaN</td>\n",
       "      <td>NaN</td>\n",
       "      <td>NaN</td>\n",
       "      <td>NaN</td>\n",
       "      <td>NaN</td>\n",
       "    </tr>\n",
       "    <tr>\n",
       "      <th>freq</th>\n",
       "      <td>NaN</td>\n",
       "      <td>1</td>\n",
       "      <td>NaN</td>\n",
       "      <td>NaN</td>\n",
       "      <td>NaN</td>\n",
       "      <td>NaN</td>\n",
       "      <td>NaN</td>\n",
       "      <td>NaN</td>\n",
       "      <td>NaN</td>\n",
       "      <td>NaN</td>\n",
       "      <td>NaN</td>\n",
       "      <td>NaN</td>\n",
       "      <td>NaN</td>\n",
       "      <td>NaN</td>\n",
       "      <td>NaN</td>\n",
       "      <td>NaN</td>\n",
       "    </tr>\n",
       "    <tr>\n",
       "      <th>mean</th>\n",
       "      <td>366.000000</td>\n",
       "      <td>NaN</td>\n",
       "      <td>2.496580</td>\n",
       "      <td>0.500684</td>\n",
       "      <td>6.519836</td>\n",
       "      <td>0.028728</td>\n",
       "      <td>2.997264</td>\n",
       "      <td>0.683995</td>\n",
       "      <td>1.395349</td>\n",
       "      <td>0.495385</td>\n",
       "      <td>0.474354</td>\n",
       "      <td>0.627894</td>\n",
       "      <td>0.190486</td>\n",
       "      <td>848.176471</td>\n",
       "      <td>3656.172367</td>\n",
       "      <td>4504.348837</td>\n",
       "    </tr>\n",
       "    <tr>\n",
       "      <th>std</th>\n",
       "      <td>211.165812</td>\n",
       "      <td>NaN</td>\n",
       "      <td>1.110807</td>\n",
       "      <td>0.500342</td>\n",
       "      <td>3.451913</td>\n",
       "      <td>0.167155</td>\n",
       "      <td>2.004787</td>\n",
       "      <td>0.465233</td>\n",
       "      <td>0.544894</td>\n",
       "      <td>0.183051</td>\n",
       "      <td>0.162961</td>\n",
       "      <td>0.142429</td>\n",
       "      <td>0.077498</td>\n",
       "      <td>686.622488</td>\n",
       "      <td>1560.256377</td>\n",
       "      <td>1937.211452</td>\n",
       "    </tr>\n",
       "    <tr>\n",
       "      <th>min</th>\n",
       "      <td>1.000000</td>\n",
       "      <td>NaN</td>\n",
       "      <td>1.000000</td>\n",
       "      <td>0.000000</td>\n",
       "      <td>1.000000</td>\n",
       "      <td>0.000000</td>\n",
       "      <td>0.000000</td>\n",
       "      <td>0.000000</td>\n",
       "      <td>1.000000</td>\n",
       "      <td>0.059130</td>\n",
       "      <td>0.079070</td>\n",
       "      <td>0.000000</td>\n",
       "      <td>0.022392</td>\n",
       "      <td>2.000000</td>\n",
       "      <td>20.000000</td>\n",
       "      <td>22.000000</td>\n",
       "    </tr>\n",
       "    <tr>\n",
       "      <th>25%</th>\n",
       "      <td>183.500000</td>\n",
       "      <td>NaN</td>\n",
       "      <td>2.000000</td>\n",
       "      <td>0.000000</td>\n",
       "      <td>4.000000</td>\n",
       "      <td>0.000000</td>\n",
       "      <td>1.000000</td>\n",
       "      <td>0.000000</td>\n",
       "      <td>1.000000</td>\n",
       "      <td>0.337083</td>\n",
       "      <td>0.337842</td>\n",
       "      <td>0.520000</td>\n",
       "      <td>0.134950</td>\n",
       "      <td>315.500000</td>\n",
       "      <td>2497.000000</td>\n",
       "      <td>3152.000000</td>\n",
       "    </tr>\n",
       "    <tr>\n",
       "      <th>50%</th>\n",
       "      <td>366.000000</td>\n",
       "      <td>NaN</td>\n",
       "      <td>3.000000</td>\n",
       "      <td>1.000000</td>\n",
       "      <td>7.000000</td>\n",
       "      <td>0.000000</td>\n",
       "      <td>3.000000</td>\n",
       "      <td>1.000000</td>\n",
       "      <td>1.000000</td>\n",
       "      <td>0.498333</td>\n",
       "      <td>0.486733</td>\n",
       "      <td>0.626667</td>\n",
       "      <td>0.180975</td>\n",
       "      <td>713.000000</td>\n",
       "      <td>3662.000000</td>\n",
       "      <td>4548.000000</td>\n",
       "    </tr>\n",
       "    <tr>\n",
       "      <th>75%</th>\n",
       "      <td>548.500000</td>\n",
       "      <td>NaN</td>\n",
       "      <td>3.000000</td>\n",
       "      <td>1.000000</td>\n",
       "      <td>10.000000</td>\n",
       "      <td>0.000000</td>\n",
       "      <td>5.000000</td>\n",
       "      <td>1.000000</td>\n",
       "      <td>2.000000</td>\n",
       "      <td>0.655417</td>\n",
       "      <td>0.608602</td>\n",
       "      <td>0.730209</td>\n",
       "      <td>0.233214</td>\n",
       "      <td>1096.000000</td>\n",
       "      <td>4776.500000</td>\n",
       "      <td>5956.000000</td>\n",
       "    </tr>\n",
       "    <tr>\n",
       "      <th>max</th>\n",
       "      <td>731.000000</td>\n",
       "      <td>NaN</td>\n",
       "      <td>4.000000</td>\n",
       "      <td>1.000000</td>\n",
       "      <td>12.000000</td>\n",
       "      <td>1.000000</td>\n",
       "      <td>6.000000</td>\n",
       "      <td>1.000000</td>\n",
       "      <td>3.000000</td>\n",
       "      <td>0.861667</td>\n",
       "      <td>0.840896</td>\n",
       "      <td>0.972500</td>\n",
       "      <td>0.507463</td>\n",
       "      <td>3410.000000</td>\n",
       "      <td>6946.000000</td>\n",
       "      <td>8714.000000</td>\n",
       "    </tr>\n",
       "  </tbody>\n",
       "</table>\n",
       "</div>"
      ],
      "text/plain": [
       "           instant      dteday      season          yr        mnth  \\\n",
       "count   731.000000         731  731.000000  731.000000  731.000000   \n",
       "unique         NaN         731         NaN         NaN         NaN   \n",
       "top            NaN  2012-12-31         NaN         NaN         NaN   \n",
       "freq           NaN           1         NaN         NaN         NaN   \n",
       "mean    366.000000         NaN    2.496580    0.500684    6.519836   \n",
       "std     211.165812         NaN    1.110807    0.500342    3.451913   \n",
       "min       1.000000         NaN    1.000000    0.000000    1.000000   \n",
       "25%     183.500000         NaN    2.000000    0.000000    4.000000   \n",
       "50%     366.000000         NaN    3.000000    1.000000    7.000000   \n",
       "75%     548.500000         NaN    3.000000    1.000000   10.000000   \n",
       "max     731.000000         NaN    4.000000    1.000000   12.000000   \n",
       "\n",
       "           holiday     weekday  workingday  weathersit        temp  \\\n",
       "count   731.000000  731.000000  731.000000  731.000000  731.000000   \n",
       "unique         NaN         NaN         NaN         NaN         NaN   \n",
       "top            NaN         NaN         NaN         NaN         NaN   \n",
       "freq           NaN         NaN         NaN         NaN         NaN   \n",
       "mean      0.028728    2.997264    0.683995    1.395349    0.495385   \n",
       "std       0.167155    2.004787    0.465233    0.544894    0.183051   \n",
       "min       0.000000    0.000000    0.000000    1.000000    0.059130   \n",
       "25%       0.000000    1.000000    0.000000    1.000000    0.337083   \n",
       "50%       0.000000    3.000000    1.000000    1.000000    0.498333   \n",
       "75%       0.000000    5.000000    1.000000    2.000000    0.655417   \n",
       "max       1.000000    6.000000    1.000000    3.000000    0.861667   \n",
       "\n",
       "             atemp         hum   windspeed       casual   registered  \\\n",
       "count   731.000000  731.000000  731.000000   731.000000   731.000000   \n",
       "unique         NaN         NaN         NaN          NaN          NaN   \n",
       "top            NaN         NaN         NaN          NaN          NaN   \n",
       "freq           NaN         NaN         NaN          NaN          NaN   \n",
       "mean      0.474354    0.627894    0.190486   848.176471  3656.172367   \n",
       "std       0.162961    0.142429    0.077498   686.622488  1560.256377   \n",
       "min       0.079070    0.000000    0.022392     2.000000    20.000000   \n",
       "25%       0.337842    0.520000    0.134950   315.500000  2497.000000   \n",
       "50%       0.486733    0.626667    0.180975   713.000000  3662.000000   \n",
       "75%       0.608602    0.730209    0.233214  1096.000000  4776.500000   \n",
       "max       0.840896    0.972500    0.507463  3410.000000  6946.000000   \n",
       "\n",
       "                cnt  \n",
       "count    731.000000  \n",
       "unique          NaN  \n",
       "top             NaN  \n",
       "freq            NaN  \n",
       "mean    4504.348837  \n",
       "std     1937.211452  \n",
       "min       22.000000  \n",
       "25%     3152.000000  \n",
       "50%     4548.000000  \n",
       "75%     5956.000000  \n",
       "max     8714.000000  "
      ]
     },
     "execution_count": 174,
     "metadata": {},
     "output_type": "execute_result"
    }
   ],
   "source": [
    "#menampilkan deskripsi dari dataframe day_df\n",
    "day_df.describe(include='all')"
   ]
  },
  {
   "cell_type": "code",
   "execution_count": 175,
   "metadata": {},
   "outputs": [],
   "source": [
    "'''pada data day_df maupun hour_df memiliki masalah yaitu kesalahan format pada variabel dteday yang seharusnya memiliki \n",
    "format datetime pada langkah ini akan diubah format ke datetime'''\n",
    "\n",
    "day_df['dteday'] = pd.to_datetime(day_df['dteday'])\n",
    "hour_df['dteday'] = pd.to_datetime(hour_df['dteday'])"
   ]
  },
  {
   "cell_type": "code",
   "execution_count": 176,
   "metadata": {},
   "outputs": [
    {
     "name": "stdout",
     "output_type": "stream",
     "text": [
      "<class 'pandas.core.frame.DataFrame'>\n",
      "RangeIndex: 731 entries, 0 to 730\n",
      "Data columns (total 16 columns):\n",
      " #   Column      Non-Null Count  Dtype         \n",
      "---  ------      --------------  -----         \n",
      " 0   instant     731 non-null    int64         \n",
      " 1   dteday      731 non-null    datetime64[ns]\n",
      " 2   season      731 non-null    int64         \n",
      " 3   yr          731 non-null    int64         \n",
      " 4   mnth        731 non-null    int64         \n",
      " 5   holiday     731 non-null    int64         \n",
      " 6   weekday     731 non-null    int64         \n",
      " 7   workingday  731 non-null    int64         \n",
      " 8   weathersit  731 non-null    int64         \n",
      " 9   temp        731 non-null    float64       \n",
      " 10  atemp       731 non-null    float64       \n",
      " 11  hum         731 non-null    float64       \n",
      " 12  windspeed   731 non-null    float64       \n",
      " 13  casual      731 non-null    int64         \n",
      " 14  registered  731 non-null    int64         \n",
      " 15  cnt         731 non-null    int64         \n",
      "dtypes: datetime64[ns](1), float64(4), int64(11)\n",
      "memory usage: 91.5 KB\n"
     ]
    }
   ],
   "source": [
    "#deskripsi dari data day_df\n",
    "day_df.info()"
   ]
  },
  {
   "cell_type": "code",
   "execution_count": 177,
   "metadata": {},
   "outputs": [
    {
     "name": "stdout",
     "output_type": "stream",
     "text": [
      "<class 'pandas.core.frame.DataFrame'>\n",
      "RangeIndex: 17379 entries, 0 to 17378\n",
      "Data columns (total 17 columns):\n",
      " #   Column      Non-Null Count  Dtype         \n",
      "---  ------      --------------  -----         \n",
      " 0   instant     17379 non-null  int64         \n",
      " 1   dteday      17379 non-null  datetime64[ns]\n",
      " 2   season      17379 non-null  int64         \n",
      " 3   yr          17379 non-null  int64         \n",
      " 4   mnth        17379 non-null  int64         \n",
      " 5   hr          17379 non-null  int64         \n",
      " 6   holiday     17379 non-null  int64         \n",
      " 7   weekday     17379 non-null  int64         \n",
      " 8   workingday  17379 non-null  int64         \n",
      " 9   weathersit  17379 non-null  int64         \n",
      " 10  temp        17379 non-null  float64       \n",
      " 11  atemp       17379 non-null  float64       \n",
      " 12  hum         17379 non-null  float64       \n",
      " 13  windspeed   17379 non-null  float64       \n",
      " 14  casual      17379 non-null  int64         \n",
      " 15  registered  17379 non-null  int64         \n",
      " 16  cnt         17379 non-null  int64         \n",
      "dtypes: datetime64[ns](1), float64(4), int64(12)\n",
      "memory usage: 2.3 MB\n"
     ]
    }
   ],
   "source": [
    "# deskripsi pada data hour_df\n",
    "hour_df.info()"
   ]
  },
  {
   "cell_type": "markdown",
   "metadata": {},
   "source": [
    "#Explanatory Data"
   ]
  },
  {
   "cell_type": "markdown",
   "metadata": {},
   "source": [
    "Melakukan uji korelasi pada variable season dan weathersit apakah berpengaruh pada kenaikan peminjma sepeda"
   ]
  },
  {
   "cell_type": "code",
   "execution_count": 178,
   "metadata": {},
   "outputs": [
    {
     "name": "stdout",
     "output_type": "stream",
     "text": [
      "                               sum_sq     df           F        PR(>F)\n",
      "C(season)                9.224636e+08    3.0  145.951415  7.347364e-74\n",
      "C(weathersit)            2.435123e+08    2.0   57.792465  5.313463e-24\n",
      "C(season):C(weathersit)  3.065076e+07    6.0    2.424769  2.505746e-02\n",
      "Residual                 1.514776e+09  719.0         NaN           NaN\n"
     ]
    }
   ],
   "source": [
    "''' disini kita akan melakukan uji korelasi pada variable weathersit dan season dengan variable cnt yang dimana kondisi cuaca di bagi \n",
    "menjadi 4 kelas dari kelas 1 sampai 4 begitu juga dengan season apakh berpedangaruh dengan jumlah penyewa sepeda'''\n",
    "'''metode korelasi yang digunakan adalah anova kita akan menggunakan statmodels '''\n",
    "\n",
    "# anova\n",
    "model = ols('cnt ~ C(season) + C(weathersit) + C(season):C(weathersit)', data=day_df).fit()\n",
    "anova_table = sm.stats.anova_lm(model, typ=2)\n",
    "print (anova_table)\n"
   ]
  },
  {
   "cell_type": "code",
   "execution_count": 179,
   "metadata": {},
   "outputs": [
    {
     "data": {
      "text/plain": [
       "'Kesimpulan : - C(season) menujukkan korelasi antara variable season dengan jumlah penyewa sepeda dari hasil diatas F-statistics mempunyai hasil\\n                yang sangat tinggi yaitu 145.951...  dan p-value(PR(>F)) kurang dari 0.05 atau mendekati 0 karena hasil diatas sangat kecil mendekati 0\\n                menyimpulkan bahwa variable season memiliki korelasi dan sangat mempengaruhi jumlah penyewa\\n                - C(weathersit) menunjukkan korelasi antara variable weathersit dengan jumlah penyewa sepeda dari hasil diatas F-statistics mempunyai hasil\\n                yang lumayan tinggi yaitu 57.792... dan p-value(PR(>F)) kurang dari 0.05 atau mendekati 0 menyimpukan bahwa variable weathersit juga mempengaruhi\\n                jumlah penyewa sepeda\\n                - hubugnan antara season dan weathersit terhadap jumlah penyewa signifikan atau berpengaruh pada jumlah penyewa tetapi lebih kecil daripada\\n                dengan hubungan season dengan jumlah penyewa yang dapat disimpulkan effect dari weathersit terhadap jumlah pengunjung akan berubha tergantung dengan variabel season.'"
      ]
     },
     "execution_count": 179,
     "metadata": {},
     "output_type": "execute_result"
    }
   ],
   "source": [
    "'''Kesimpulan : - C(season) menujukkan korelasi antara variable season dengan jumlah penyewa sepeda dari hasil diatas F-statistics mempunyai hasil\n",
    "                yang sangat tinggi yaitu 145.951...  dan p-value(PR(>F)) kurang dari 0.05 atau mendekati 0 karena hasil diatas sangat kecil mendekati 0\n",
    "                menyimpulkan bahwa variable season memiliki korelasi dan sangat mempengaruhi jumlah penyewa\n",
    "                - C(weathersit) menunjukkan korelasi antara variable weathersit dengan jumlah penyewa sepeda dari hasil diatas F-statistics mempunyai hasil\n",
    "                yang lumayan tinggi yaitu 57.792... dan p-value(PR(>F)) kurang dari 0.05 atau mendekati 0 menyimpukan bahwa variable weathersit juga mempengaruhi\n",
    "                jumlah penyewa sepeda\n",
    "                - hubugnan antara season dan weathersit terhadap jumlah penyewa signifikan atau berpengaruh pada jumlah penyewa tetapi lebih kecil daripada\n",
    "                dengan hubungan season dengan jumlah penyewa yang dapat disimpulkan effect dari weathersit terhadap jumlah pengunjung akan berubha tergantung dengan variabel season.'''"
   ]
  },
  {
   "cell_type": "markdown",
   "metadata": {},
   "source": [
    "Penggolongan status peminjam sepeda apakah berstatus umum atau berlangganan"
   ]
  },
  {
   "cell_type": "code",
   "execution_count": 180,
   "metadata": {},
   "outputs": [
    {
     "data": {
      "text/plain": [
       "np.int64(620017)"
      ]
     },
     "execution_count": 180,
     "metadata": {},
     "output_type": "execute_result"
    }
   ],
   "source": [
    "day_df['casual'].sum()"
   ]
  },
  {
   "cell_type": "code",
   "execution_count": 181,
   "metadata": {},
   "outputs": [
    {
     "data": {
      "text/plain": [
       "np.int64(2672662)"
      ]
     },
     "execution_count": 181,
     "metadata": {},
     "output_type": "execute_result"
    }
   ],
   "source": [
    "day_df['registered'].sum()"
   ]
  },
  {
   "cell_type": "markdown",
   "metadata": {},
   "source": [
    "2. banyak penyewa pada beberapa bulan terakhir dalam satu tahun?"
   ]
  },
  {
   "cell_type": "markdown",
   "metadata": {},
   "source": [
    "melakuka perihutangn jumlah peminjam sepeda di setiap bulan"
   ]
  },
  {
   "cell_type": "code",
   "execution_count": 182,
   "metadata": {},
   "outputs": [],
   "source": [
    "# membuat nama bulan\n",
    "month = {1:'January', 2:'February', 3:'March', 4:'April', 5:'May', 6:'June', 7:'July', 8:'August', 9:'September', 10:'October', 11:'November', 12:'December'}\n",
    "\n",
    "# membuat tabel baru yang berisi nama bulan yang sebelumnya hanya berupa angka saja\n",
    "day_df['month_name'] = day_df['mnth'].map(month)"
   ]
  },
  {
   "cell_type": "code",
   "execution_count": 183,
   "metadata": {},
   "outputs": [],
   "source": [
    "year = {0:2011, 1:2012}\n",
    "day_df['year'] = day_df['yr'].map(year)"
   ]
  },
  {
   "cell_type": "code",
   "execution_count": 184,
   "metadata": {},
   "outputs": [
    {
     "data": {
      "text/plain": [
       "year\n",
       "2011    1243103\n",
       "2012    2049576\n",
       "Name: cnt, dtype: int64"
      ]
     },
     "execution_count": 184,
     "metadata": {},
     "output_type": "execute_result"
    }
   ],
   "source": [
    "# terlihat terjadi peningkatana penyewa sepeda di tahun 2012\n",
    "day_df.groupby(by = 'year').cnt.sum()"
   ]
  },
  {
   "cell_type": "code",
   "execution_count": 187,
   "metadata": {},
   "outputs": [
    {
     "data": {
      "text/plain": [
       "year  month_name\n",
       "2012  September     218573\n",
       "      October       198841\n",
       "      November      152664\n",
       "      May           195865\n",
       "      March         164875\n",
       "      June          202830\n",
       "      July          203607\n",
       "      January        96744\n",
       "      February      103137\n",
       "      December      123713\n",
       "      August        214503\n",
       "      April         174224\n",
       "2011  September     127418\n",
       "      October       123511\n",
       "      November      102167\n",
       "      May           135821\n",
       "      March          64045\n",
       "      June          143512\n",
       "      July          141341\n",
       "      January        38189\n",
       "      February       48215\n",
       "      December       87323\n",
       "      August        136691\n",
       "      April          94870\n",
       "Name: cnt, dtype: int64"
      ]
     },
     "execution_count": 187,
     "metadata": {},
     "output_type": "execute_result"
    }
   ],
   "source": [
    "#kita akan menggunakan data day_df saja daripada hour_df unutk melihat perbandingan banyak penyewa sepeda pada setiap bulan di setiap tahun\n",
    "#meskipun terlalu banyak angka dan membingungkan akan divisualisasikan pada proses selanjutnya\n",
    "#disini kita melakukan pivot table dengan memisakhakn tahun lalu bulan pada setiap tahun dan menjumlahkan jumlah penyewa keseluruhan pada variable cnt\n",
    "day_df.groupby(by = ['year', 'month_name']).cnt.sum().sort_index(ascending=False)"
   ]
  },
  {
   "cell_type": "markdown",
   "metadata": {},
   "source": [
    "3. pada musim apa banyak penyewa menyewa sepeda?"
   ]
  },
  {
   "cell_type": "markdown",
   "metadata": {},
   "source": [
    "melakukan perhitungan jumlah peminjma sepeda pada setiap season"
   ]
  },
  {
   "cell_type": "code",
   "execution_count": 188,
   "metadata": {},
   "outputs": [],
   "source": [
    "# mentranslate yang awalnya data season adalah hanya angka sekarang akan diubah ke jenis yang dapat dibaca secara jelas\n",
    "season = {1:'semi', 2:'panas', 3:'gugur', 4:'dingin'}"
   ]
  },
  {
   "cell_type": "code",
   "execution_count": 189,
   "metadata": {},
   "outputs": [],
   "source": [
    "# membuat variable atau kolom tambahann untuk menampung translate dari angka ke kata atau jenis musim yang dapat lebih mudah dimengerti\n",
    "day_df['musim'] = day_df['season'].map(season)"
   ]
  },
  {
   "cell_type": "code",
   "execution_count": 190,
   "metadata": {},
   "outputs": [
    {
     "data": {
      "text/plain": [
       "year  musim \n",
       "2012  gugur     641479\n",
       "      panas     571273\n",
       "      dingin    515476\n",
       "2011  gugur     419650\n",
       "      panas     347316\n",
       "      dingin    326137\n",
       "2012  semi      321348\n",
       "2011  semi      150000\n",
       "Name: cnt, dtype: int64"
      ]
     },
     "execution_count": 190,
     "metadata": {},
     "output_type": "execute_result"
    }
   ],
   "source": [
    "# manampilkan denga cara pivot table untuk menunjukkan jumlah pesepeda pada setiap musim dan mengurutkannnya dari yang terbesar\n",
    "day_df.groupby(by = ['year', 'musim']).cnt.sum().sort_values(ascending=False)"
   ]
  },
  {
   "cell_type": "markdown",
   "metadata": {},
   "source": [
    "terlihat dari data diatas bahwa 2 tahun dari tahun 2011 sampai tahun 2012 terlihat bahwa musim gugur adalah musim dengan penyewa terbanyak dari musim musim lainnya dan musim yang paling sedikit untuk jumlah penyewa sepeda adalah musim semi."
   ]
  },
  {
   "cell_type": "markdown",
   "metadata": {},
   "source": [
    "# Data Visualization"
   ]
  },
  {
   "cell_type": "markdown",
   "metadata": {},
   "source": [
    "memvisualisasikan perbandingan jumlah penywa sepeda berdasar berlangganan atau umum"
   ]
  },
  {
   "cell_type": "code",
   "execution_count": 191,
   "metadata": {},
   "outputs": [
    {
     "data": {
      "image/png": "[encoded data removed]",
      "text/plain": [
       "<Figure size 1000x500 with 1 Axes>"
      ]
     },
     "metadata": {},
     "output_type": "display_data"
    }
   ],
   "source": [
    "# memvisualisasikan data banyak penyewa umum dan teregistrasi\n",
    "casual_sum = int(day_df['casual'].sum())\n",
    "registered_sum = int(day_df['registered'].sum())\n",
    "\n",
    "# data yang akan digunakan\n",
    "sizes = [casual_sum, registered_sum]\n",
    "\n",
    "# membuat chart pie untuk menampilkan data\n",
    "plt.figure(figsize=(10,5))\n",
    "plt.pie(sizes, labels = ['Umum', 'Berlangganan'], colors = ['gray', 'orange'], autopct='%1.1f%%', startangle=140)\n",
    "\n",
    "plt.axis('equal')\n",
    "plt.title('Perbandingan Jumlah Penyewa Umum dan Berlangganan')\n",
    "plt.show()\n"
   ]
  },
  {
   "cell_type": "markdown",
   "metadata": {},
   "source": [
    "dari visualisasi data status peminjam sepeda paling banyak pada pemimjam yang telah berlangganan dengan persentase 81.2% dan sisanya adalah peminjam umum"
   ]
  },
  {
   "cell_type": "code",
   "execution_count": 192,
   "metadata": {},
   "outputs": [],
   "source": [
    "# membuat variable yang menampung jumlah data penyewa setiap bulan dan setiap tahun\n",
    "monthly_rental = day_df.groupby(by = ['year', 'month_name', 'mnth']).cnt.sum().reset_index()"
   ]
  },
  {
   "cell_type": "code",
   "execution_count": 193,
   "metadata": {},
   "outputs": [],
   "source": [
    "#mengurutkan data sesuai dengan tahun dan urut setiap bulan\n",
    "monthly_rental = monthly_rental.sort_values(by=['year', 'mnth'])"
   ]
  },
  {
   "cell_type": "code",
   "execution_count": 194,
   "metadata": {},
   "outputs": [
    {
     "name": "stdout",
     "output_type": "stream",
     "text": [
      "    year month_name  mnth     cnt\n",
      "4   2011    January     1   38189\n",
      "3   2011   February     2   48215\n",
      "7   2011      March     3   64045\n",
      "0   2011      April     4   94870\n",
      "8   2011        May     5  135821\n",
      "6   2011       June     6  143512\n",
      "5   2011       July     7  141341\n",
      "1   2011     August     8  136691\n",
      "11  2011  September     9  127418\n",
      "10  2011    October    10  123511\n",
      "9   2011   November    11  102167\n",
      "2   2011   December    12   87323\n",
      "16  2012    January     1   96744\n",
      "15  2012   February     2  103137\n",
      "19  2012      March     3  164875\n",
      "12  2012      April     4  174224\n",
      "20  2012        May     5  195865\n",
      "18  2012       June     6  202830\n",
      "17  2012       July     7  203607\n",
      "13  2012     August     8  214503\n",
      "23  2012  September     9  218573\n",
      "22  2012    October    10  198841\n",
      "21  2012   November    11  152664\n",
      "14  2012   December    12  123713\n"
     ]
    }
   ],
   "source": [
    "print (monthly_rental)"
   ]
  },
  {
   "cell_type": "code",
   "execution_count": 195,
   "metadata": {},
   "outputs": [],
   "source": [
    "# memisahkan data tahun 2011 dan tahun 2012\n",
    "plot_2011 = monthly_rental[monthly_rental['year'] == 2011]\n",
    "plot_2012 = monthly_rental[monthly_rental['year'] == 2012]"
   ]
  },
  {
   "cell_type": "code",
   "execution_count": 196,
   "metadata": {},
   "outputs": [
    {
     "data": {
      "image/png": "[encoded data removed]",
      "text/plain": [
       "<Figure size 1000x600 with 1 Axes>"
      ]
     },
     "metadata": {},
     "output_type": "display_data"
    }
   ],
   "source": [
    "#mmembuat chart untuk menampilkan jumlah penyewa sepeda pada tahun 2011 dan tahun 2012\n",
    "plt.figure(figsize=(10, 6))\n",
    "plt.plot(plot_2011['month_name'], plot_2011['cnt'], label='2011', marker='o')\n",
    "plt.plot(plot_2012['month_name'], plot_2012['cnt'], label='2012', marker='s')\n",
    "\n",
    "# memberikan label kepada diagram yang dibuat\n",
    "plt.title('Jumlah Penyewa Sepeda pada Tahun 2011 dan 2012')\n",
    "plt.legend()\n",
    "plt.xlabel('Month')\n",
    "plt.ylabel('Total')\n",
    "\n",
    "# mengeatur agar setiap bagian tidak overlap dengan bangian yang lain\n",
    "plt.tight_layout()\n",
    "plt.show()"
   ]
  },
  {
   "cell_type": "markdown",
   "metadata": {},
   "source": [
    "disimpulkan dari visualisasi data diatas kenaikan jumlah peminjam sepeda paling tinggia berada pada rentang bulan mei sampai october"
   ]
  },
  {
   "cell_type": "markdown",
   "metadata": {},
   "source": [
    "visualisasi data banyak penyewa pada setiap season"
   ]
  },
  {
   "cell_type": "code",
   "execution_count": 197,
   "metadata": {},
   "outputs": [],
   "source": [
    "# memuat data yang diperlukan yaitu data variable season, tahun, dan total peminjam sepeda\n",
    "season_df = day_df.groupby(by = ['year', 'musim']).cnt.sum().reset_index() # pastikan untuk reset_index() karena agar variable year dapat terdistribusikan pada setiap baris dan menjadi dataframe yang utuh"
   ]
  },
  {
   "cell_type": "code",
   "execution_count": 198,
   "metadata": {},
   "outputs": [
    {
     "data": {
      "text/html": [
       "<div>\n",
       "<style scoped>\n",
       "    .dataframe tbody tr th:only-of-type {\n",
       "        vertical-align: middle;\n",
       "    }\n",
       "\n",
       "    .dataframe tbody tr th {\n",
       "        vertical-align: top;\n",
       "    }\n",
       "\n",
       "    .dataframe thead th {\n",
       "        text-align: right;\n",
       "    }\n",
       "</style>\n",
       "<table border=\"1\" class=\"dataframe\">\n",
       "  <thead>\n",
       "    <tr style=\"text-align: right;\">\n",
       "      <th></th>\n",
       "      <th>year</th>\n",
       "      <th>musim</th>\n",
       "      <th>cnt</th>\n",
       "    </tr>\n",
       "  </thead>\n",
       "  <tbody>\n",
       "    <tr>\n",
       "      <th>0</th>\n",
       "      <td>2011</td>\n",
       "      <td>dingin</td>\n",
       "      <td>326137</td>\n",
       "    </tr>\n",
       "    <tr>\n",
       "      <th>1</th>\n",
       "      <td>2011</td>\n",
       "      <td>gugur</td>\n",
       "      <td>419650</td>\n",
       "    </tr>\n",
       "    <tr>\n",
       "      <th>2</th>\n",
       "      <td>2011</td>\n",
       "      <td>panas</td>\n",
       "      <td>347316</td>\n",
       "    </tr>\n",
       "    <tr>\n",
       "      <th>3</th>\n",
       "      <td>2011</td>\n",
       "      <td>semi</td>\n",
       "      <td>150000</td>\n",
       "    </tr>\n",
       "    <tr>\n",
       "      <th>4</th>\n",
       "      <td>2012</td>\n",
       "      <td>dingin</td>\n",
       "      <td>515476</td>\n",
       "    </tr>\n",
       "  </tbody>\n",
       "</table>\n",
       "</div>"
      ],
      "text/plain": [
       "   year   musim     cnt\n",
       "0  2011  dingin  326137\n",
       "1  2011   gugur  419650\n",
       "2  2011   panas  347316\n",
       "3  2011    semi  150000\n",
       "4  2012  dingin  515476"
      ]
     },
     "execution_count": 198,
     "metadata": {},
     "output_type": "execute_result"
    }
   ],
   "source": [
    "season_df.head()"
   ]
  },
  {
   "cell_type": "code",
   "execution_count": 199,
   "metadata": {},
   "outputs": [],
   "source": [
    "# memisahkan data sesuai dengan tahunnya\n",
    "season_2011_df = season_df[season_df['year'] == 2011]\n",
    "season_2012_df = season_df[season_df['year'] == 2012]"
   ]
  },
  {
   "cell_type": "code",
   "execution_count": 200,
   "metadata": {},
   "outputs": [
    {
     "data": {
      "image/png": "[encoded data removed]",
      "text/plain": [
       "<Figure size 1000x600 with 1 Axes>"
      ]
     },
     "metadata": {},
     "output_type": "display_data"
    }
   ],
   "source": [
    "#membuat chart dari data peminjam setiap season tersebut\n",
    "plt.figure(figsize=(10,6))\n",
    "plt.plot(season_2011_df['musim'], season_2011_df['cnt'], label='2011', marker='o')\n",
    "plt.plot(season_2012_df['musim'], season_2012_df['cnt'], label='2012', marker='s')\n",
    "\n",
    "#membarikan balbel pada chart yang dibuat \n",
    "plt.title('Jumlah Peminjam Setiap Season pada Tahun 2011 dan 2012')\n",
    "plt.xlabel('Season')\n",
    "plt.ylabel('Total')\n",
    "plt.legend()\n",
    "\n",
    "# mengatur agar tulisan atau elemen lain tidak overlap dengan elemen yang lain\n",
    "plt.tight_layout()\n",
    "plt.show()"
   ]
  },
  {
   "cell_type": "markdown",
   "metadata": {},
   "source": [
    "visualisasi data idatas juga sejalan dengan visualisasi data setiap bulan yang dimana kenaikan jumlah peminjam sepeda pada musim gugur dan panas dengan jumlah tertinggi peminjam sepeda pada tahun 2011 dan tahun 2012 terjadi pada musim gugur"
   ]
  },
  {
   "cell_type": "markdown",
   "metadata": {},
   "source": [
    "menyiapkan data final"
   ]
  },
  {
   "cell_type": "code",
   "execution_count": 201,
   "metadata": {},
   "outputs": [],
   "source": [
    "day_df.to_csv('final_data.csv', index=False)"
   ]
  }
 ],
 "metadata": {
  "kernelspec": {
   "display_name": "projek_data_analysis",
   "language": "python",
   "name": "python3"
  },
  "language_info": {
   "codemirror_mode": {
    "name": "ipython",
    "version": 3
   },
   "file_extension": ".py",
   "mimetype": "text/x-python",
   "name": "python",
   "nbconvert_exporter": "python",
   "pygments_lexer": "ipython3",
   "version": "3.9.19"
  }
 },
 "nbformat": 4,
 "nbformat_minor": 2
}
